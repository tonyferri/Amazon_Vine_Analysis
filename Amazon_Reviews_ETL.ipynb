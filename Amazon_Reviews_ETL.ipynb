{
  "cells": [
    {
      "cell_type": "code",
      "execution_count": 1,
      "metadata": {
        "colab": {
          "base_uri": "https://localhost:8080/"
        },
        "id": "V58rxea0HqSa",
        "outputId": "7d2c85fc-d33e-42df-a375-b5f1d1c644ac"
      },
      "outputs": [
        {
          "name": "stdout",
          "output_type": "stream",
          "text": [
            "\r0% [Working]\r            \rHit:1 http://ppa.launchpad.net/c2d4u.team/c2d4u4.0+/ubuntu bionic InRelease\n",
            "\r0% [Waiting for headers] [Waiting for headers] [Connecting to cloud.r-project.o\r0% [1 InRelease gpgv 15.9 kB] [Waiting for headers] [Waiting for headers] [Conn\r                                                                               \rHit:2 http://ppa.launchpad.net/cran/libgit2/ubuntu bionic InRelease\n",
            "\r0% [1 InRelease gpgv 15.9 kB] [Waiting for headers] [Waiting for headers] [Conn\r                                                                               \rHit:3 http://archive.ubuntu.com/ubuntu bionic InRelease\n",
            "\r0% [1 InRelease gpgv 15.9 kB] [Waiting for headers] [Waiting for headers] [Conn\r                                                                               \rGet:4 http://security.ubuntu.com/ubuntu bionic-security InRelease [88.7 kB]\n",
            "\r0% [1 InRelease gpgv 15.9 kB] [Waiting for headers] [4 InRelease 14.2 kB/88.7 k\r                                                                               \rHit:5 http://ppa.launchpad.net/deadsnakes/ppa/ubuntu bionic InRelease\n",
            "\r0% [1 InRelease gpgv 15.9 kB] [Waiting for headers] [4 InRelease 14.2 kB/88.7 k\r                                                                               \rGet:6 http://archive.ubuntu.com/ubuntu bionic-updates InRelease [88.7 kB]\n",
            "\r0% [1 InRelease gpgv 15.9 kB] [6 InRelease 14.2 kB/88.7 kB 16%] [4 InRelease 43\r0% [1 InRelease gpgv 15.9 kB] [6 InRelease 38.8 kB/88.7 kB 44%] [Waiting for he\r                                                                               \rHit:7 http://ppa.launchpad.net/graphics-drivers/ppa/ubuntu bionic InRelease\n",
            "\r0% [1 InRelease gpgv 15.9 kB] [6 InRelease 38.8 kB/88.7 kB 44%] [Waiting for he\r0% [1 InRelease gpgv 15.9 kB] [Waiting for headers] [Waiting for headers] [Wait\r                                                                               \rHit:8 https://cloud.r-project.org/bin/linux/ubuntu bionic-cran40/ InRelease\n",
            "Hit:9 http://archive.ubuntu.com/ubuntu bionic-backports InRelease\n",
            "Ign:10 https://developer.download.nvidia.com/compute/cuda/repos/ubuntu1804/x86_64  InRelease\n",
            "Ign:11 https://developer.download.nvidia.com/compute/machine-learning/repos/ubuntu1804/x86_64  InRelease\n",
            "Hit:12 https://developer.download.nvidia.com/compute/cuda/repos/ubuntu1804/x86_64  Release\n",
            "Hit:13 https://developer.download.nvidia.com/compute/machine-learning/repos/ubuntu1804/x86_64  Release\n",
            "Fetched 177 kB in 4s (42.7 kB/s)\n",
            "Reading package lists... Done\n"
          ]
        }
      ],
      "source": [
        "import os\n",
        "# Find the latest version of spark 3.0 from http://www.apache.org/dist/spark/ and enter as the spark version\n",
        "# For example:\n",
        "# spark_version = 'spark-3.0.3'\n",
        "spark_version = 'spark-3.0.3'\n",
        "os.environ['SPARK_VERSION']=spark_version\n",
        "\n",
        "# Install Spark and Java\n",
        "!apt-get update\n",
        "!apt-get install openjdk-11-jdk-headless -qq > /dev/null\n",
        "!wget -q http://www.apache.org/dist/spark/$SPARK_VERSION/$SPARK_VERSION-bin-hadoop2.7.tgz\n",
        "!tar xf $SPARK_VERSION-bin-hadoop2.7.tgz\n",
        "!pip install -q findspark\n",
        "\n",
        "# Set Environment Variables\n",
        "import os\n",
        "os.environ[\"JAVA_HOME\"] = \"/usr/lib/jvm/java-11-openjdk-amd64\"\n",
        "os.environ[\"SPARK_HOME\"] = f\"/content/{spark_version}-bin-hadoop2.7\"\n",
        "\n",
        "# Start a SparkSession\n",
        "import findspark\n",
        "findspark.init()"
      ]
    },
    {
      "cell_type": "code",
      "execution_count": 2,
      "metadata": {
        "colab": {
          "base_uri": "https://localhost:8080/"
        },
        "id": "_xKwTpATHqSe",
        "outputId": "794f1a2e-18c4-4e50-b3ce-be2430ac5aca"
      },
      "outputs": [
        {
          "name": "stdout",
          "output_type": "stream",
          "text": [
            "--2022-01-08 19:28:04--  https://jdbc.postgresql.org/download/postgresql-42.2.16.jar\n",
            "Resolving jdbc.postgresql.org (jdbc.postgresql.org)... 72.32.157.228, 2001:4800:3e1:1::228\n",
            "Connecting to jdbc.postgresql.org (jdbc.postgresql.org)|72.32.157.228|:443... connected.\n",
            "HTTP request sent, awaiting response... 200 OK\n",
            "Length: 1002883 (979K) [application/java-archive]\n",
            "Saving to: ‘postgresql-42.2.16.jar.7’\n",
            "\n",
            "postgresql-42.2.16. 100%[===================>] 979.38K  1.68MB/s    in 0.6s    \n",
            "\n",
            "2022-01-08 19:28:06 (1.68 MB/s) - ‘postgresql-42.2.16.jar.7’ saved [1002883/1002883]\n",
            "\n"
          ]
        }
      ],
      "source": [
        "# Download the Postgres driver that will allow Spark to interact with Postgres.\n",
        "!wget https://jdbc.postgresql.org/download/postgresql-42.2.16.jar"
      ]
    },
    {
      "cell_type": "code",
      "execution_count": 3,
      "metadata": {
        "id": "MMqDAjVS0KN9"
      },
      "outputs": [],
      "source": [
        "from pyspark.sql import SparkSession\n",
        "spark = SparkSession.builder.appName(\"M16-Amazon-Challenge\").config(\"spark.driver.extraClassPath\",\"/content/postgresql-42.2.16.jar\").getOrCreate()"
      ]
    },
    {
      "cell_type": "markdown",
      "metadata": {
        "id": "cyBsySGuY-9V"
      },
      "source": [
        "### Load Amazon Data into Spark DataFrame"
      ]
    },
    {
      "cell_type": "code",
      "execution_count": 4,
      "metadata": {
        "colab": {
          "base_uri": "https://localhost:8080/"
        },
        "id": "CtCmBhQJY-9Z",
        "outputId": "1f2cc52b-fbf2-4ce9-93e3-5247607f3f90"
      },
      "outputs": [
        {
          "name": "stdout",
          "output_type": "stream",
          "text": [
            "+-----------+-----------+--------------+----------+--------------+------------------------------------------------------------------------------------------------------------------------------------------------------------------------------------------------------------------------------------------------------------------------------------------------------+-------------------+-----------+-------------+-----------+----+-----------------+--------------------------------------------------------------------------------------------------------------------------------+---------------------------------------------------------------------------------------------------------------------------------------------------------------------------------------------------------------------------------------------------------------------------------------------------------------------------------------------------------------------------------------------------------------------------------------------------------------------------------------------------------------------------------------------------------------------------------------------------------------------------------------------------------------------------------------------------------------------------------------------------------------------------------------------------------------------------------------------------------------------------------------------------------------------------------------------------------------------------------------------------------------------------------------------------------------------------------------------------------------------------------------------------------------------------------------------------------+-----------+\n",
            "|marketplace|customer_id|review_id     |product_id|product_parent|product_title                                                                                                                                                                                                                                                                                         |product_category   |star_rating|helpful_votes|total_votes|vine|verified_purchase|review_headline                                                                                                                 |review_body                                                                                                                                                                                                                                                                                                                                                                                                                                                                                                                                                                                                                                                                                                                                                                                                                                                                                                                                                                                                                                                                                                                                                                                              |review_date|\n",
            "+-----------+-----------+--------------+----------+--------------+------------------------------------------------------------------------------------------------------------------------------------------------------------------------------------------------------------------------------------------------------------------------------------------------------+-------------------+-----------+-------------+-----------+----+-----------------+--------------------------------------------------------------------------------------------------------------------------------+---------------------------------------------------------------------------------------------------------------------------------------------------------------------------------------------------------------------------------------------------------------------------------------------------------------------------------------------------------------------------------------------------------------------------------------------------------------------------------------------------------------------------------------------------------------------------------------------------------------------------------------------------------------------------------------------------------------------------------------------------------------------------------------------------------------------------------------------------------------------------------------------------------------------------------------------------------------------------------------------------------------------------------------------------------------------------------------------------------------------------------------------------------------------------------------------------------+-----------+\n",
            "|US         |45610553   |RMDCHWD0Y5OZ9 |B00HH62VB6|618218723     |AGPtek® 10 Isolated Output 9V 12V 18V Guitar Pedal Board Power Supply Effect Pedals with Isolated Short Cricuit / Overcurrent Protection                                                                                                                                                              |Musical Instruments|3          |0            |1          |N   |N                |Three Stars                                                                                                                     |Works very good, but induces ALOT of noise.                                                                                                                                                                                                                                                                                                                                                                                                                                                                                                                                                                                                                                                                                                                                                                                                                                                                                                                                                                                                                                                                                                                                                              |2015-08-31 |\n",
            "|US         |14640079   |RZSL0BALIYUNU |B003LRN53I|986692292     |Sennheiser HD203 Closed-Back DJ Headphones                                                                                                                                                                                                                                                            |Musical Instruments|5          |0            |0          |N   |Y                |Five Stars                                                                                                                      |Nice headphones at a reasonable price.                                                                                                                                                                                                                                                                                                                                                                                                                                                                                                                                                                                                                                                                                                                                                                                                                                                                                                                                                                                                                                                                                                                                                                   |2015-08-31 |\n",
            "|US         |6111003    |RIZR67JKUDBI0 |B0006VMBHI|603261968     |AudioQuest LP record clean brush                                                                                                                                                                                                                                                                      |Musical Instruments|3          |0            |1          |N   |Y                |Three Stars                                                                                                                     |removes dust. does not clean                                                                                                                                                                                                                                                                                                                                                                                                                                                                                                                                                                                                                                                                                                                                                                                                                                                                                                                                                                                                                                                                                                                                                                             |2015-08-31 |\n",
            "|US         |1546619    |R27HL570VNL85F|B002B55TRG|575084461     |Hohner Inc. 560BX-BF Special Twenty Harmonica                                                                                                                                                                                                                                                         |Musical Instruments|5          |0            |0          |N   |Y                |I purchase these for a friend in return for playing ...                                                                         |I purchase these for a friend in return for playing them for my father and other folks at a local retirement home. Thank you R.BNGR                                                                                                                                                                                                                                                                                                                                                                                                                                                                                                                                                                                                                                                                                                                                                                                                                                                                                                                                                                                                                                                                      |2015-08-31 |\n",
            "|US         |12222213   |R34EBU9QDWJ1GD|B00N1YPXW2|165236328     |Blue Yeti USB Microphone - Blackout Edition                                                                                                                                                                                                                                                           |Musical Instruments|5          |0            |0          |N   |Y                |Five Stars                                                                                                                      |This is an awesome mic!                                                                                                                                                                                                                                                                                                                                                                                                                                                                                                                                                                                                                                                                                                                                                                                                                                                                                                                                                                                                                                                                                                                                                                                  |2015-08-31 |\n",
            "|US         |46018513   |R1WCUI4Z1SIQEO|B001N4GRGS|134151483     |Middle Atlantic Products QFAN-119                                                                                                                                                                                                                                                                     |Musical Instruments|5          |0            |0          |N   |N                |Five Stars                                                                                                                      |Used to cool equipment inside credenzas.  Worked great.                                                                                                                                                                                                                                                                                                                                                                                                                                                                                                                                                                                                                                                                                                                                                                                                                                                                                                                                                                                                                                                                                                                                                  |2015-08-31 |\n",
            "|US         |10225065   |RL5LNO26GAVJ1 |B009PJRMHQ|694166585     |Kmise 1pc Pickguard for Gibson Sg Standard 3-ply Black                                                                                                                                                                                                                                                |Musical Instruments|2          |3            |4          |N   |Y                |Will not Fit Epiphone SG Special or any other Epi SG.                                                                           |Note- Does not Fit Epiphone SG Special! Mine is circa 2002 model and it will not fill the space between the humbuckers completely. Everything else is Great and good craftmanship otherwise. I had to add my own custom made filler plate to complete the build. I have not been able to find this style pick guard that will fit my guitar with proper spacing between humbuckers without a &#34;custom&#34; price and having to send your guitar out.<br />Good price, but be prepared to do some custom work yourself!                                                                                                                                                                                                                                                                                                                                                                                                                                                                                                                                                                                                                                                                                |2015-08-31 |\n",
            "|US         |6356995    |R3GYQ5W8JHP8SB|B00NKBDAZS|446431775     |Kealoha Concert Ukulele - Stunning NEW Printed Design Series Sound & Playability – Great Value!                                                                                                                                                                                                       |Musical Instruments|5          |0            |0          |N   |Y                |Five Stars                                                                                                                      |Well built Ukulele! My daughter loves it!                                                                                                                                                                                                                                                                                                                                                                                                                                                                                                                                                                                                                                                                                                                                                                                                                                                                                                                                                                                                                                                                                                                                                                |2015-08-31 |\n",
            "|US         |35297198   |R30SHYQXGG5EYC|B006MIU7U2|125871705     |Halco 80000 - MR16/3WW/FL/LED2 MR16 Flood LED Light Bulb                                                                                                                                                                                                                                              |Musical Instruments|5          |0            |0          |N   |Y                |Works fine. Hope it lasts through the warranty period this ...                                                                  |Had to replace a new light after a lightning storm. Works fine.  Hope it lasts through the warranty period this time!                                                                                                                                                                                                                                                                                                                                                                                                                                                                                                                                                                                                                                                                                                                                                                                                                                                                                                                                                                                                                                                                                    |2015-08-31 |\n",
            "|US         |32139520   |R14YLXA56NP51I|B000FIBD0I|771888534     |Gator GPTBLACK Plywood Pedal Board with Black Nylon 18 x 12 Inches Carry Bag and External Pocket                                                                                                                                                                                                      |Musical Instruments|5          |1            |1          |N   |N                |I upgraded the power cord to a heavier gauge which only cost me an extra 5 bucks and a little of my time *** I'd totally recomme|I've owned multiple fixed boards over the years, but I much rather stick with individual effect units*** I've purchased a few empty boards and they wound up falling apart, then it's deep six time *** My brother-in-law purchased the GPTBLPWR as a X-Mass gift 5 years ago, and much to my surprise, it's still kicking ass*** I've dropped it a few times, it's been accidentally stepped on a few times, kicked around numerous times, but after all this abuse, she's still rockin' as hard as ever *** Yes, it's heavy, Yes, the power cord is a bit flimsy, but I think I can deal with those negatives*** Actually, I upgraded the power cord to a heavier gauge which only cost me an extra 5 bucks and a little of my time *** I'd totally recommend this product  to anyone who is constantly on the move with there gear *** The cool thing about this is that when my bro-in-law purchased it 5 years ago, it was only $89.95 *** To bad guy's, you should have taken a chance back then, you could have saved  a little change, but all in all, it's very worth every penny*** You won't be disappointed, I can guarantee it *** Thanks again Amazon / Gator for another job well done ***|2015-08-31 |\n",
            "|US         |36060782   |R1ZH0HSH38IOTZ|B0002E52GG|68535945      |Hetman 1 - Light Piston Lubricant Light                                                                                                                                                                                                                                                               |Musical Instruments|5          |0            |0          |N   |Y                |My son's favourite trumpet valve oil                                                                                            |Consistent quality, no strong odours, works well. My son's favourite trumpet valve oil. He is a serious player and this is also what his teacher (a professionalt rumpeter) uses. It's                                                                                                                                                                                                                                                                                                                                                                                                                                                                                                                                                                                                                                                                                                                                                                                                                                                                                                                                                                                                                   |2015-08-31 |\n",
            "|US         |5301309    |R3H53KLLC210XI|B00RZIH52G|725541773     |Dragonpad pop filter ® 5.4\" Studio Clamp On Microphone Pop Filter Metal Screen Mic Windscreen, Swivel Mount, 360 Flexible Gooseneck Holder - Blue                                                                                                                                                     |Musical Instruments|4          |0            |0          |N   |Y                |Great pop filter - poor mount                                                                                                   |by far the best pop filter i have used, extremely effective, i did not loose any air at all, my only problem is that the goose-neck and mounting clamp are cheap and hard to adjust                                                                                                                                                                                                                                                                                                                                                                                                                                                                                                                                                                                                                                                                                                                                                                                                                                                                                                                                                                                                                      |2015-08-31 |\n",
            "|US         |37472935   |R3OOR877NGA8JK|B001792BAU|46570323      |DharmaObjects Relaxing Yoga Meditation Om Peace Singing Bowl / Silk Cushion / Rosewood Mallet Set                                                                                                                                                                                                     |Musical Instruments|3          |0            |0          |N   |Y                |Ok                                                                                                                              |Beautiful set. Only the sound not at long and deap.                                                                                                                                                                                                                                                                                                                                                                                                                                                                                                                                                                                                                                                                                                                                                                                                                                                                                                                                                                                                                                                                                                                                                      |2015-08-31 |\n",
            "|US         |33578270   |R1BY7WKOZ3KMH0|B009GSKW1Y|547963417     |Musiclily SSS Plain Guitar 3 Single Coil Loaded Prewired Pickguard Set  for Fender Strat Stratocaster Guitar Parts, White                                                                                                                                                                             |Musical Instruments|2          |0            |0          |N   |Y                |Two Stars                                                                                                                       |Bridge pickup was broken. I replace d the pickup and ok now. To cheap to send back.                                                                                                                                                                                                                                                                                                                                                                                                                                                                                                                                                                                                                                                                                                                                                                                                                                                                                                                                                                                                                                                                                                                      |2015-08-31 |\n",
            "|US         |22070226   |RXP1TFSWE8EG9 |B0002F4TKA|436074323     |Vic Firth American Custom SD1 General,1 pair                                                                                                                                                                                                                                                          |Musical Instruments|5          |0            |0          |N   |Y                |Five Stars                                                                                                                      |Feels good and last long                                                                                                                                                                                                                                                                                                                                                                                                                                                                                                                                                                                                                                                                                                                                                                                                                                                                                                                                                                                                                                                                                                                                                                                 |2015-08-31 |\n",
            "|US         |52862655   |R3J44DPP12OTLJ|B00K17YFBW|81933093      |Guitar Stand for Acoustic/Electric/Classical Guitars and Violin, Ukulele, Bass, Banjo, Mandolin - Folding, Portable and Lightweight - Fits Your Gibson/Fender/Taylor/Yamaha Music Instrument - The Ultimate for Concert & Travel - Premium Accessories by Nordic Essentials&trade; - Lifetime Warranty|Musical Instruments|5          |0            |0          |N   |Y                |Great stand... only one little glitch                                                                                           |I love the stand.  I bought two.  The only glitch is that when I attached a cable to my guitar, the cable's plug hit the floor when the guitar was in the stand.  A right angle plug solved the problem.                                                                                                                                                                                                                                                                                                                                                                                                                                                                                                                                                                                                                                                                                                                                                                                                                                                                                                                                                                                                 |2015-08-31 |\n",
            "|US         |4427243    |RFOV69SK0T676 |B00EQ24HJS|669249276     |Generic 3PLY Faux Tortoise Shell Guitar Pickguard HSH                                                                                                                                                                                                                                                 |Musical Instruments|5          |0            |0          |N   |Y                |Looks great. You have to anticipate tapping new screwholes when ...                                                             |On time. Looks great. You have to anticipate tapping new screwholes when you replace a pickguard!                                                                                                                                                                                                                                                                                                                                                                                                                                                                                                                                                                                                                                                                                                                                                                                                                                                                                                                                                                                                                                                                                                        |2015-08-31 |\n",
            "|US         |14108571   |R2HUWDNW62FOL3|B00IBOYTUE|749537231     |Audio 2000 6525 32 Channel Wireless Microphone System                                                                                                                                                                                                                                                 |Musical Instruments|1          |0            |0          |N   |Y                |Poor sound quality                                                                                                              |I was hoping it would work well, but tried a second cord and would only receive a lot of static in both tries.  Was never able to get clear sound at all and tried moving away from any possible interference etc.  Manual lacked any kind of trouble shooting and online was lacking as well.                                                                                                                                                                                                                                                                                                                                                                                                                                                                                                                                                                                                                                                                                                                                                                                                                                                                                                           |2015-08-31 |\n",
            "|US         |27314089   |R1KSU30XZGR452|B00FBRUSAE|792472601     |Sawtooth ST-AMP-10ST-AMP-10 10-Watt Electric Guitar Amp                                                                                                                                                                                                                                               |Musical Instruments|5          |0            |0          |N   |Y                |Perfect for the beginner                                                                                                        |Good sound for its size and price.  Great of a young guitar student the learn on w/o breaking the bank.                                                                                                                                                                                                                                                                                                                                                                                                                                                                                                                                                                                                                                                                                                                                                                                                                                                                                                                                                                                                                                                                                                  |2015-08-31 |\n",
            "|US         |16735445   |R2TZVLLTSHA07N|B0113D2QUO|269114019     |Upado Unlimited Glockenspiel Xylophone, Precision Tuned Handcrafted Musical Instrument Includes 2 Wooden Mallets and 12 Page Educational Music Pattern Song Book                                                                                                                                      |Musical Instruments|5          |1            |1          |N   |Y                |It really is a musical instrument and the book is a fantastic way to begin                                                      |Wow! I didn't expect the quality and intonation of this product to be so high. It really is a musical instrument and the book is a fantastic way to begin. Thanks for the thoughtfulness that went into this product!                                                                                                                                                                                                                                                                                                                                                                                                                                                                                                                                                                                                                                                                                                                                                                                                                                                                                                                                                                                    |2015-08-31 |\n",
            "+-----------+-----------+--------------+----------+--------------+------------------------------------------------------------------------------------------------------------------------------------------------------------------------------------------------------------------------------------------------------------------------------------------------------+-------------------+-----------+-------------+-----------+----+-----------------+--------------------------------------------------------------------------------------------------------------------------------+---------------------------------------------------------------------------------------------------------------------------------------------------------------------------------------------------------------------------------------------------------------------------------------------------------------------------------------------------------------------------------------------------------------------------------------------------------------------------------------------------------------------------------------------------------------------------------------------------------------------------------------------------------------------------------------------------------------------------------------------------------------------------------------------------------------------------------------------------------------------------------------------------------------------------------------------------------------------------------------------------------------------------------------------------------------------------------------------------------------------------------------------------------------------------------------------------------+-----------+\n",
            "only showing top 20 rows\n",
            "\n"
          ]
        }
      ],
      "source": [
        "from pyspark import SparkFiles\n",
        "url = \"https://s3.amazonaws.com/amazon-reviews-pds/tsv/amazon_reviews_us_Musical_Instruments_v1_00.tsv.gz\"\n",
        "spark.sparkContext.addFile(url)\n",
        "df = spark.read.option(\"encoding\", \"UTF-8\").csv(SparkFiles.get(\"\"), sep=\"\\t\", header=True, inferSchema=True)\n",
        "df.show(truncate=False)"
      ]
    },
    {
      "cell_type": "markdown",
      "metadata": {
        "id": "2yUSe55VY-9t"
      },
      "source": [
        "### Create DataFrames to match tables"
      ]
    },
    {
      "cell_type": "code",
      "execution_count": 5,
      "metadata": {
        "id": "C8REmY1aY-9u"
      },
      "outputs": [],
      "source": [
        "from pyspark.sql.functions import to_date\n",
        "# Read in the Review dataset as a DataFrame\n"
      ]
    },
    {
      "cell_type": "code",
      "execution_count": 6,
      "metadata": {
        "id": "9aj-yCRyUWZS"
      },
      "outputs": [],
      "source": [
        "from pyspark.sql.functions import count"
      ]
    },
    {
      "cell_type": "code",
      "execution_count": 7,
      "metadata": {
        "colab": {
          "base_uri": "https://localhost:8080/"
        },
        "id": "B0TESUDRY-90",
        "outputId": "5af89d14-e48c-4673-cf31-f0af96458d5d"
      },
      "outputs": [
        {
          "name": "stdout",
          "output_type": "stream",
          "text": [
            "+-----------+--------------+\n",
            "|customer_id|customer_count|\n",
            "+-----------+--------------+\n",
            "|   27314089|             1|\n",
            "|    6711334|             1|\n",
            "|   44525866|             4|\n",
            "|   47461997|             1|\n",
            "|   42560427|             1|\n",
            "|   35225823|             1|\n",
            "|   52526865|            20|\n",
            "|    1954060|             1|\n",
            "|   34202730|             3|\n",
            "|   40014361|             1|\n",
            "|   42719693|             1|\n",
            "|   27252006|             1|\n",
            "|   48297144|             1|\n",
            "|   12204397|             1|\n",
            "|   17090175|             2|\n",
            "|   13352125|             9|\n",
            "|   46958825|            28|\n",
            "|     134138|             1|\n",
            "|     283456|             1|\n",
            "|   42847010|             2|\n",
            "+-----------+--------------+\n",
            "only showing top 20 rows\n",
            "\n"
          ]
        }
      ],
      "source": [
        "# Create the customers_table DataFrame\n",
        "customers_df = df.groupby(\"customer_id\").agg({\"customer_id\": \"count\"}).withColumnRenamed(\"count(customer_id)\", \"customer_count\")\n",
        "customers_df.show()"
      ]
    },
    {
      "cell_type": "code",
      "execution_count": 8,
      "metadata": {
        "colab": {
          "base_uri": "https://localhost:8080/"
        },
        "id": "4FwXA6UvY-96",
        "outputId": "1b9cc379-962b-421e-dd29-bbfe40187fc0"
      },
      "outputs": [
        {
          "name": "stdout",
          "output_type": "stream",
          "text": [
            "+----------+------------------------------------------------------------------------------------------------------------------------------------------------------------------------------------------------------------------------------------------------------------------------------------------------------+\n",
            "|product_id|product_title                                                                                                                                                                                                                                                                                         |\n",
            "+----------+------------------------------------------------------------------------------------------------------------------------------------------------------------------------------------------------------------------------------------------------------------------------------------------------------+\n",
            "|B00HH62VB6|AGPtek® 10 Isolated Output 9V 12V 18V Guitar Pedal Board Power Supply Effect Pedals with Isolated Short Cricuit / Overcurrent Protection                                                                                                                                                              |\n",
            "|B003LRN53I|Sennheiser HD203 Closed-Back DJ Headphones                                                                                                                                                                                                                                                            |\n",
            "|B0006VMBHI|AudioQuest LP record clean brush                                                                                                                                                                                                                                                                      |\n",
            "|B002B55TRG|Hohner Inc. 560BX-BF Special Twenty Harmonica                                                                                                                                                                                                                                                         |\n",
            "|B00N1YPXW2|Blue Yeti USB Microphone - Blackout Edition                                                                                                                                                                                                                                                           |\n",
            "|B001N4GRGS|Middle Atlantic Products QFAN-119                                                                                                                                                                                                                                                                     |\n",
            "|B009PJRMHQ|Kmise 1pc Pickguard for Gibson Sg Standard 3-ply Black                                                                                                                                                                                                                                                |\n",
            "|B00NKBDAZS|Kealoha Concert Ukulele - Stunning NEW Printed Design Series Sound & Playability – Great Value!                                                                                                                                                                                                       |\n",
            "|B006MIU7U2|Halco 80000 - MR16/3WW/FL/LED2 MR16 Flood LED Light Bulb                                                                                                                                                                                                                                              |\n",
            "|B000FIBD0I|Gator GPTBLACK Plywood Pedal Board with Black Nylon 18 x 12 Inches Carry Bag and External Pocket                                                                                                                                                                                                      |\n",
            "|B0002E52GG|Hetman 1 - Light Piston Lubricant Light                                                                                                                                                                                                                                                               |\n",
            "|B00RZIH52G|Dragonpad pop filter ® 5.4\" Studio Clamp On Microphone Pop Filter Metal Screen Mic Windscreen, Swivel Mount, 360 Flexible Gooseneck Holder - Blue                                                                                                                                                     |\n",
            "|B001792BAU|DharmaObjects Relaxing Yoga Meditation Om Peace Singing Bowl / Silk Cushion / Rosewood Mallet Set                                                                                                                                                                                                     |\n",
            "|B009GSKW1Y|Musiclily SSS Plain Guitar 3 Single Coil Loaded Prewired Pickguard Set  for Fender Strat Stratocaster Guitar Parts, White                                                                                                                                                                             |\n",
            "|B0002F4TKA|Vic Firth American Custom SD1 General,1 pair                                                                                                                                                                                                                                                          |\n",
            "|B00K17YFBW|Guitar Stand for Acoustic/Electric/Classical Guitars and Violin, Ukulele, Bass, Banjo, Mandolin - Folding, Portable and Lightweight - Fits Your Gibson/Fender/Taylor/Yamaha Music Instrument - The Ultimate for Concert & Travel - Premium Accessories by Nordic Essentials&trade; - Lifetime Warranty|\n",
            "|B00EQ24HJS|Generic 3PLY Faux Tortoise Shell Guitar Pickguard HSH                                                                                                                                                                                                                                                 |\n",
            "|B00IBOYTUE|Audio 2000 6525 32 Channel Wireless Microphone System                                                                                                                                                                                                                                                 |\n",
            "|B00FBRUSAE|Sawtooth ST-AMP-10ST-AMP-10 10-Watt Electric Guitar Amp                                                                                                                                                                                                                                               |\n",
            "|B0113D2QUO|Upado Unlimited Glockenspiel Xylophone, Precision Tuned Handcrafted Musical Instrument Includes 2 Wooden Mallets and 12 Page Educational Music Pattern Song Book                                                                                                                                      |\n",
            "+----------+------------------------------------------------------------------------------------------------------------------------------------------------------------------------------------------------------------------------------------------------------------------------------------------------------+\n",
            "only showing top 20 rows\n",
            "\n",
            "+----------+---------------------------------------------------------------------------------------+\n",
            "|product_id|product_title                                                                          |\n",
            "+----------+---------------------------------------------------------------------------------------+\n",
            "|B000078JQ0|M-Audio Portable Studio Pack                                                           |\n",
            "|B0000C8CFP|Gemini CDJ 15X TOP LOADING TABLE TOP CD PLAYER                                         |\n",
            "|B0002CZTIE|Gator 88 Note Keyboard Cover (GKC-1648)                                                |\n",
            "|B0002D02NA|Protec CTG234 Electric Guitar Contego PRO PAC Case (Strat/Tele Type Guitars)           |\n",
            "|B0002D03EI|Traveler Guitar Original Escape Acoustic-Electric Travel Guitar with Gig Bag           |\n",
            "|B0002D049M|Wireless Solutions - Headset ( ear-bud )                                               |\n",
            "|B0002D04B0|Zildjian A Custom 16\" Projection Crash Cymbal                                          |\n",
            "|B0002D064U|Seymour Duncan - 11102-75 - PA-TB2b Distortion Parallel Axis                           |\n",
            "|B0002D0DVG|Evans RGS Pad Bass Drum Damper                                                         |\n",
            "|B0002D0GBS|Zildjian ZXT 10-Inch Flash Splash Cymbal                                               |\n",
            "|B0002D0LRC|Gibson Gear PPAT-500 Electric Guitar Part                                              |\n",
            "|B0002D0PJ6|Clayton Picks Black Raven Guitar Picks                                                 |\n",
            "|B0002DUS2A|Fender Stainless Steel 350s 10/46                                                      |\n",
            "|B0002DVBBW|Odyssey C45200 Carpeted Case For 45 Rpm Vinyl Records (200) With Surface Mount Hardware|\n",
            "|B0002DYB9Q|Pearl D050 Tension Hook                                                                |\n",
            "|B0002E1HG0|Schecter Stiletto Custom-4 Electric Bass (4 String, Natural Satin)                     |\n",
            "|B0002E1P5I|Savarez 520P1 Traditional Classical Guitar Strings, High Tension, Red Card             |\n",
            "|B0002E2G92|Sabian 18 Inch HHX X-TREME Crash                                                       |\n",
            "|B0002E2TH6|Aquarian Drumheads TCSX18 Studio-X Coated 18-inch Tom Tom/Snare Drum Head              |\n",
            "|B0002E3D5S|DiMarzio DP123-CR-Model J Cream Set                                                    |\n",
            "+----------+---------------------------------------------------------------------------------------+\n",
            "only showing top 20 rows\n",
            "\n"
          ]
        }
      ],
      "source": [
        "# Create the products_table DataFrame and drop duplicates. \n",
        "# products_df = df.select([]).drop_duplicates()\n",
        "\n",
        "products_df_all = df.select([\"product_id\", \"product_title\"])\n",
        "products_df_all.show(truncate=False)\n",
        "\n",
        "products_df = products_df_all.drop_duplicates([\"product_id\"])\n",
        "# products_df.filter(products_df[\"product_id\"] == \"B000M52KOC\").show(truncate=False)\n",
        "products_df.show(truncate=False)"
      ]
    },
    {
      "cell_type": "code",
      "execution_count": 9,
      "metadata": {
        "colab": {
          "base_uri": "https://localhost:8080/"
        },
        "id": "MkqyCuNQY-9-",
        "outputId": "e3b877ad-34fe-4729-c287-0ee26f67b783"
      },
      "outputs": [
        {
          "name": "stdout",
          "output_type": "stream",
          "text": [
            "+--------------+-----------+----------+--------------+-----------+\n",
            "|     review_id|customer_id|product_id|product_parent|review_date|\n",
            "+--------------+-----------+----------+--------------+-----------+\n",
            "| RMDCHWD0Y5OZ9|   45610553|B00HH62VB6|     618218723| 2015-08-31|\n",
            "| RZSL0BALIYUNU|   14640079|B003LRN53I|     986692292| 2015-08-31|\n",
            "| RIZR67JKUDBI0|    6111003|B0006VMBHI|     603261968| 2015-08-31|\n",
            "|R27HL570VNL85F|    1546619|B002B55TRG|     575084461| 2015-08-31|\n",
            "|R34EBU9QDWJ1GD|   12222213|B00N1YPXW2|     165236328| 2015-08-31|\n",
            "|R1WCUI4Z1SIQEO|   46018513|B001N4GRGS|     134151483| 2015-08-31|\n",
            "| RL5LNO26GAVJ1|   10225065|B009PJRMHQ|     694166585| 2015-08-31|\n",
            "|R3GYQ5W8JHP8SB|    6356995|B00NKBDAZS|     446431775| 2015-08-31|\n",
            "|R30SHYQXGG5EYC|   35297198|B006MIU7U2|     125871705| 2015-08-31|\n",
            "|R14YLXA56NP51I|   32139520|B000FIBD0I|     771888534| 2015-08-31|\n",
            "|R1ZH0HSH38IOTZ|   36060782|B0002E52GG|      68535945| 2015-08-31|\n",
            "|R3H53KLLC210XI|    5301309|B00RZIH52G|     725541773| 2015-08-31|\n",
            "|R3OOR877NGA8JK|   37472935|B001792BAU|      46570323| 2015-08-31|\n",
            "|R1BY7WKOZ3KMH0|   33578270|B009GSKW1Y|     547963417| 2015-08-31|\n",
            "| RXP1TFSWE8EG9|   22070226|B0002F4TKA|     436074323| 2015-08-31|\n",
            "|R3J44DPP12OTLJ|   52862655|B00K17YFBW|      81933093| 2015-08-31|\n",
            "| RFOV69SK0T676|    4427243|B00EQ24HJS|     669249276| 2015-08-31|\n",
            "|R2HUWDNW62FOL3|   14108571|B00IBOYTUE|     749537231| 2015-08-31|\n",
            "|R1KSU30XZGR452|   27314089|B00FBRUSAE|     792472601| 2015-08-31|\n",
            "|R2TZVLLTSHA07N|   16735445|B0113D2QUO|     269114019| 2015-08-31|\n",
            "+--------------+-----------+----------+--------------+-----------+\n",
            "only showing top 20 rows\n",
            "\n"
          ]
        }
      ],
      "source": [
        "# Create the review_id_table DataFrame. \n",
        "# Convert the 'review_date' column to a date datatype with to_date(\"review_date\", 'yyyy-MM-dd').alias(\"review_date\")\n",
        "# review_id_df = df.select([, to_date(\"review_date\", 'yyyy-MM-dd').alias(\"review_date\")])\n",
        "\n",
        "review_id_df = df.select([\"review_id\", \"customer_id\", \"product_id\", \"product_parent\", to_date(\"review_date\", 'yyyy-MM-dd').alias(\"review_date\")])\n",
        "review_id_df.show()"
      ]
    },
    {
      "cell_type": "code",
      "execution_count": 10,
      "metadata": {
        "colab": {
          "base_uri": "https://localhost:8080/"
        },
        "id": "lzMmkdKmY--D",
        "outputId": "46fad888-1f81-460d-c74d-8d5443de4292"
      },
      "outputs": [
        {
          "name": "stdout",
          "output_type": "stream",
          "text": [
            "+--------------+-----------+-------------+-----------+----+-----------------+\n",
            "|     review_id|star_rating|helpful_votes|total_votes|vine|verified_purchase|\n",
            "+--------------+-----------+-------------+-----------+----+-----------------+\n",
            "| RMDCHWD0Y5OZ9|          3|            0|          1|   N|                N|\n",
            "| RZSL0BALIYUNU|          5|            0|          0|   N|                Y|\n",
            "| RIZR67JKUDBI0|          3|            0|          1|   N|                Y|\n",
            "|R27HL570VNL85F|          5|            0|          0|   N|                Y|\n",
            "|R34EBU9QDWJ1GD|          5|            0|          0|   N|                Y|\n",
            "|R1WCUI4Z1SIQEO|          5|            0|          0|   N|                N|\n",
            "| RL5LNO26GAVJ1|          2|            3|          4|   N|                Y|\n",
            "|R3GYQ5W8JHP8SB|          5|            0|          0|   N|                Y|\n",
            "|R30SHYQXGG5EYC|          5|            0|          0|   N|                Y|\n",
            "|R14YLXA56NP51I|          5|            1|          1|   N|                N|\n",
            "|R1ZH0HSH38IOTZ|          5|            0|          0|   N|                Y|\n",
            "|R3H53KLLC210XI|          4|            0|          0|   N|                Y|\n",
            "|R3OOR877NGA8JK|          3|            0|          0|   N|                Y|\n",
            "|R1BY7WKOZ3KMH0|          2|            0|          0|   N|                Y|\n",
            "| RXP1TFSWE8EG9|          5|            0|          0|   N|                Y|\n",
            "|R3J44DPP12OTLJ|          5|            0|          0|   N|                Y|\n",
            "| RFOV69SK0T676|          5|            0|          0|   N|                Y|\n",
            "|R2HUWDNW62FOL3|          1|            0|          0|   N|                Y|\n",
            "|R1KSU30XZGR452|          5|            0|          0|   N|                Y|\n",
            "|R2TZVLLTSHA07N|          5|            1|          1|   N|                Y|\n",
            "+--------------+-----------+-------------+-----------+----+-----------------+\n",
            "only showing top 20 rows\n",
            "\n"
          ]
        }
      ],
      "source": [
        "# Create the vine_table. DataFrame\n",
        "# vine_df = df.select([])\n",
        "\n",
        "vine_df = df.select([\"review_id\", \"star_rating\", \"helpful_votes\", \"total_votes\", \"vine\", \"verified_purchase\"])\n",
        "vine_df.show()"
      ]
    },
    {
      "cell_type": "markdown",
      "metadata": {
        "id": "jITZhLkmY--J"
      },
      "source": [
        "### Connect to the AWS RDS instance and write each DataFrame to its table. "
      ]
    },
    {
      "cell_type": "code",
      "execution_count": 11,
      "metadata": {
        "id": "7jiUvs1aY--L"
      },
      "outputs": [],
      "source": [
        "# Configure settings for RDS\n",
        "mode = \"append\"\n",
        "jdbc_url=\"jdbc:postgresql://<endpoint>:5432/<database name>\"\n",
        "config = {\"user\":\"postgres\", \n",
        "          \"password\": \"<password>\", \n",
        "          \"driver\":\"org.postgresql.Driver\"}"
      ]
    },
    {
      "cell_type": "code",
      "execution_count": 12,
      "metadata": {
        "id": "T2zgZ-aKY--Q"
      },
      "outputs": [],
      "source": [
        "# Write review_id_df to table in RDS\n",
        "review_id_df.write.jdbc(url=jdbc_url, table='review_id_table', mode=mode, properties=config)"
      ]
    },
    {
      "cell_type": "code",
      "execution_count": 15,
      "metadata": {
        "id": "1m3yzn-LY--U"
      },
      "outputs": [],
      "source": [
        "# Write products_df to table in RDS\n",
        "# about 3 min\n",
        "products_df.write.jdbc(url=jdbc_url, table='products_table', mode=mode, properties=config)"
      ]
    },
    {
      "cell_type": "code",
      "execution_count": 16,
      "metadata": {
        "id": "KbXri15fY--Z"
      },
      "outputs": [],
      "source": [
        "# Write customers_df to table in RDS\n",
        "# 5 min 14 s\n",
        "customers_df.write.jdbc(url=jdbc_url, table='customers_table', mode=mode, properties=config)"
      ]
    },
    {
      "cell_type": "code",
      "execution_count": 17,
      "metadata": {
        "id": "XdQknSHLY--e"
      },
      "outputs": [],
      "source": [
        "# Write vine_df to table in RDS\n",
        "# 11 minutes\n",
        "vine_df.write.jdbc(url=jdbc_url, table='vine_table', mode=mode, properties=config)"
      ]
    },
    {
      "cell_type": "code",
      "execution_count": null,
      "metadata": {
        "id": "Exuo6ebUsCqW"
      },
      "outputs": [],
      "source": []
    }
  ],
  "metadata": {
    "colab": {
      "collapsed_sections": [],
      "name": "Amazon_Reviews_ETL.ipynb",
      "provenance": []
    },
    "kernelspec": {
      "display_name": "Python 3",
      "name": "python3"
    },
    "language_info": {
      "name": "python"
    },
    "nteract": {
      "version": "0.12.3"
    }
  },
  "nbformat": 4,
  "nbformat_minor": 0
}
